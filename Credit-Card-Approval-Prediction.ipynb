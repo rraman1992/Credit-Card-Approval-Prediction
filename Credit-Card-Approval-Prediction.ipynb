{
 "cells": [
  {
   "cell_type": "code",
   "execution_count": 1,
   "metadata": {
    "_cell_guid": "b1076dfc-b9ad-4769-8c92-a6c4dae69d19",
    "_uuid": "8f2839f25d086af736a60e9eeb907d3b93b6e0e5",
    "execution": {
     "iopub.execute_input": "2021-02-27T01:50:51.641111Z",
     "iopub.status.busy": "2021-02-27T01:50:51.640365Z",
     "iopub.status.idle": "2021-02-27T01:50:51.656720Z",
     "shell.execute_reply": "2021-02-27T01:50:51.655427Z"
    },
    "papermill": {
     "duration": 0.041629,
     "end_time": "2021-02-27T01:50:51.657026",
     "exception": false,
     "start_time": "2021-02-27T01:50:51.615397",
     "status": "completed"
    },
    "tags": []
   },
   "outputs": [
    {
     "name": "stdout",
     "output_type": "stream",
     "text": [
      "/kaggle/input/credit-card-approval-prediction/credit_record.csv\n",
      "/kaggle/input/credit-card-approval-prediction/application_record.csv\n"
     ]
    }
   ],
   "source": [
    "# This Python 3 environment comes with many helpful analytics libraries installed\n",
    "# It is defined by the kaggle/python Docker image: https://github.com/kaggle/docker-python\n",
    "# For example, here's several helpful packages to load\n",
    "\n",
    "import numpy as np # linear algebra\n",
    "import pandas as pd # data processing, CSV file I/O (e.g. pd.read_csv)\n",
    "\n",
    "# Input data files are available in the read-only \"../input/\" directory\n",
    "# For example, running this (by clicking run or pressing Shift+Enter) will list all files under the input directory\n",
    "\n",
    "import os\n",
    "for dirname, _, filenames in os.walk('/kaggle/input'):\n",
    "    for filename in filenames:\n",
    "        print(os.path.join(dirname, filename))\n",
    "\n",
    "# You can write up to 20GB to the current directory (/kaggle/working/) that gets preserved as output when you create a version using \"Save & Run All\" \n",
    "# You can also write temporary files to /kaggle/temp/, but they won't be saved outside of the current session"
   ]
  },
  {
   "cell_type": "code",
   "execution_count": 2,
   "metadata": {
    "execution": {
     "iopub.execute_input": "2021-02-27T01:50:51.688922Z",
     "iopub.status.busy": "2021-02-27T01:50:51.688192Z",
     "iopub.status.idle": "2021-02-27T01:50:51.692446Z",
     "shell.execute_reply": "2021-02-27T01:50:51.691823Z"
    },
    "papermill": {
     "duration": 0.021506,
     "end_time": "2021-02-27T01:50:51.692626",
     "exception": false,
     "start_time": "2021-02-27T01:50:51.671120",
     "status": "completed"
    },
    "tags": []
   },
   "outputs": [],
   "source": [
    "# variables\n",
    "\n",
    "# paths for files\n",
    "app_path_str = \"../input/credit-card-approval-prediction/application_record.csv\"\n",
    "credit_path_str = \"../input/credit-card-approval-prediction/credit_record.csv\"\n",
    "# For random forest, a number of trees must be selected.\n",
    "# The higher number, the more thorough the calculation, but it takes longer to run.\n",
    "number_of_trees = 200\n",
    "# Target column for random forest prediction\n",
    "target_column_name = 'high_risk'\n",
    "# Usually, decision trees can be large.  Setting this variable to 3 or 4 makes the result tree easier to see and interpret.\n",
    "tree_depth = 3"
   ]
  },
  {
   "cell_type": "code",
   "execution_count": 3,
   "metadata": {
    "execution": {
     "iopub.execute_input": "2021-02-27T01:50:51.724443Z",
     "iopub.status.busy": "2021-02-27T01:50:51.723766Z",
     "iopub.status.idle": "2021-02-27T01:50:53.497916Z",
     "shell.execute_reply": "2021-02-27T01:50:53.498402Z"
    },
    "papermill": {
     "duration": 1.793229,
     "end_time": "2021-02-27T01:50:53.498612",
     "exception": false,
     "start_time": "2021-02-27T01:50:51.705383",
     "status": "completed"
    },
    "tags": []
   },
   "outputs": [
    {
     "data": {
      "text/html": [
       "<div>\n",
       "<style scoped>\n",
       "    .dataframe tbody tr th:only-of-type {\n",
       "        vertical-align: middle;\n",
       "    }\n",
       "\n",
       "    .dataframe tbody tr th {\n",
       "        vertical-align: top;\n",
       "    }\n",
       "\n",
       "    .dataframe thead th {\n",
       "        text-align: right;\n",
       "    }\n",
       "</style>\n",
       "<table border=\"1\" class=\"dataframe\">\n",
       "  <thead>\n",
       "    <tr style=\"text-align: right;\">\n",
       "      <th></th>\n",
       "      <th>ID</th>\n",
       "      <th>CODE_GENDER</th>\n",
       "      <th>FLAG_OWN_CAR</th>\n",
       "      <th>FLAG_OWN_REALTY</th>\n",
       "      <th>CNT_CHILDREN</th>\n",
       "      <th>AMT_INCOME_TOTAL</th>\n",
       "      <th>NAME_INCOME_TYPE</th>\n",
       "      <th>NAME_EDUCATION_TYPE</th>\n",
       "      <th>NAME_FAMILY_STATUS</th>\n",
       "      <th>NAME_HOUSING_TYPE</th>\n",
       "      <th>DAYS_BIRTH</th>\n",
       "      <th>DAYS_EMPLOYED</th>\n",
       "      <th>FLAG_MOBIL</th>\n",
       "      <th>FLAG_WORK_PHONE</th>\n",
       "      <th>FLAG_PHONE</th>\n",
       "      <th>FLAG_EMAIL</th>\n",
       "      <th>OCCUPATION_TYPE</th>\n",
       "      <th>CNT_FAM_MEMBERS</th>\n",
       "    </tr>\n",
       "  </thead>\n",
       "  <tbody>\n",
       "    <tr>\n",
       "      <th>0</th>\n",
       "      <td>5008804</td>\n",
       "      <td>M</td>\n",
       "      <td>Y</td>\n",
       "      <td>Y</td>\n",
       "      <td>0</td>\n",
       "      <td>427500.0</td>\n",
       "      <td>Working</td>\n",
       "      <td>Higher education</td>\n",
       "      <td>Civil marriage</td>\n",
       "      <td>Rented apartment</td>\n",
       "      <td>-12005</td>\n",
       "      <td>-4542</td>\n",
       "      <td>1</td>\n",
       "      <td>1</td>\n",
       "      <td>0</td>\n",
       "      <td>0</td>\n",
       "      <td>NaN</td>\n",
       "      <td>2.0</td>\n",
       "    </tr>\n",
       "    <tr>\n",
       "      <th>1</th>\n",
       "      <td>5008805</td>\n",
       "      <td>M</td>\n",
       "      <td>Y</td>\n",
       "      <td>Y</td>\n",
       "      <td>0</td>\n",
       "      <td>427500.0</td>\n",
       "      <td>Working</td>\n",
       "      <td>Higher education</td>\n",
       "      <td>Civil marriage</td>\n",
       "      <td>Rented apartment</td>\n",
       "      <td>-12005</td>\n",
       "      <td>-4542</td>\n",
       "      <td>1</td>\n",
       "      <td>1</td>\n",
       "      <td>0</td>\n",
       "      <td>0</td>\n",
       "      <td>NaN</td>\n",
       "      <td>2.0</td>\n",
       "    </tr>\n",
       "    <tr>\n",
       "      <th>2</th>\n",
       "      <td>5008806</td>\n",
       "      <td>M</td>\n",
       "      <td>Y</td>\n",
       "      <td>Y</td>\n",
       "      <td>0</td>\n",
       "      <td>112500.0</td>\n",
       "      <td>Working</td>\n",
       "      <td>Secondary / secondary special</td>\n",
       "      <td>Married</td>\n",
       "      <td>House / apartment</td>\n",
       "      <td>-21474</td>\n",
       "      <td>-1134</td>\n",
       "      <td>1</td>\n",
       "      <td>0</td>\n",
       "      <td>0</td>\n",
       "      <td>0</td>\n",
       "      <td>Security staff</td>\n",
       "      <td>2.0</td>\n",
       "    </tr>\n",
       "    <tr>\n",
       "      <th>3</th>\n",
       "      <td>5008808</td>\n",
       "      <td>F</td>\n",
       "      <td>N</td>\n",
       "      <td>Y</td>\n",
       "      <td>0</td>\n",
       "      <td>270000.0</td>\n",
       "      <td>Commercial associate</td>\n",
       "      <td>Secondary / secondary special</td>\n",
       "      <td>Single / not married</td>\n",
       "      <td>House / apartment</td>\n",
       "      <td>-19110</td>\n",
       "      <td>-3051</td>\n",
       "      <td>1</td>\n",
       "      <td>0</td>\n",
       "      <td>1</td>\n",
       "      <td>1</td>\n",
       "      <td>Sales staff</td>\n",
       "      <td>1.0</td>\n",
       "    </tr>\n",
       "    <tr>\n",
       "      <th>4</th>\n",
       "      <td>5008809</td>\n",
       "      <td>F</td>\n",
       "      <td>N</td>\n",
       "      <td>Y</td>\n",
       "      <td>0</td>\n",
       "      <td>270000.0</td>\n",
       "      <td>Commercial associate</td>\n",
       "      <td>Secondary / secondary special</td>\n",
       "      <td>Single / not married</td>\n",
       "      <td>House / apartment</td>\n",
       "      <td>-19110</td>\n",
       "      <td>-3051</td>\n",
       "      <td>1</td>\n",
       "      <td>0</td>\n",
       "      <td>1</td>\n",
       "      <td>1</td>\n",
       "      <td>Sales staff</td>\n",
       "      <td>1.0</td>\n",
       "    </tr>\n",
       "  </tbody>\n",
       "</table>\n",
       "</div>"
      ],
      "text/plain": [
       "        ID CODE_GENDER FLAG_OWN_CAR FLAG_OWN_REALTY  CNT_CHILDREN  \\\n",
       "0  5008804           M            Y               Y             0   \n",
       "1  5008805           M            Y               Y             0   \n",
       "2  5008806           M            Y               Y             0   \n",
       "3  5008808           F            N               Y             0   \n",
       "4  5008809           F            N               Y             0   \n",
       "\n",
       "   AMT_INCOME_TOTAL      NAME_INCOME_TYPE            NAME_EDUCATION_TYPE  \\\n",
       "0          427500.0               Working               Higher education   \n",
       "1          427500.0               Working               Higher education   \n",
       "2          112500.0               Working  Secondary / secondary special   \n",
       "3          270000.0  Commercial associate  Secondary / secondary special   \n",
       "4          270000.0  Commercial associate  Secondary / secondary special   \n",
       "\n",
       "     NAME_FAMILY_STATUS  NAME_HOUSING_TYPE  DAYS_BIRTH  DAYS_EMPLOYED  \\\n",
       "0        Civil marriage   Rented apartment      -12005          -4542   \n",
       "1        Civil marriage   Rented apartment      -12005          -4542   \n",
       "2               Married  House / apartment      -21474          -1134   \n",
       "3  Single / not married  House / apartment      -19110          -3051   \n",
       "4  Single / not married  House / apartment      -19110          -3051   \n",
       "\n",
       "   FLAG_MOBIL  FLAG_WORK_PHONE  FLAG_PHONE  FLAG_EMAIL OCCUPATION_TYPE  \\\n",
       "0           1                1           0           0             NaN   \n",
       "1           1                1           0           0             NaN   \n",
       "2           1                0           0           0  Security staff   \n",
       "3           1                0           1           1     Sales staff   \n",
       "4           1                0           1           1     Sales staff   \n",
       "\n",
       "   CNT_FAM_MEMBERS  \n",
       "0              2.0  \n",
       "1              2.0  \n",
       "2              2.0  \n",
       "3              1.0  \n",
       "4              1.0  "
      ]
     },
     "execution_count": 3,
     "metadata": {},
     "output_type": "execute_result"
    }
   ],
   "source": [
    "#  Load data\n",
    "# create dataframe from data\n",
    "df_app = pd.read_csv(app_path_str)\n",
    "df_app.head()"
   ]
  },
  {
   "cell_type": "code",
   "execution_count": 4,
   "metadata": {
    "execution": {
     "iopub.execute_input": "2021-02-27T01:50:53.532259Z",
     "iopub.status.busy": "2021-02-27T01:50:53.531583Z",
     "iopub.status.idle": "2021-02-27T01:50:54.047393Z",
     "shell.execute_reply": "2021-02-27T01:50:54.048057Z"
    },
    "papermill": {
     "duration": 0.535313,
     "end_time": "2021-02-27T01:50:54.048260",
     "exception": false,
     "start_time": "2021-02-27T01:50:53.512947",
     "status": "completed"
    },
    "tags": []
   },
   "outputs": [
    {
     "data": {
      "text/plain": [
       "(1048575, 3)"
      ]
     },
     "execution_count": 4,
     "metadata": {},
     "output_type": "execute_result"
    }
   ],
   "source": [
    "#  Load data\n",
    "# create dataframe from data\n",
    "\n",
    "df_credit = pd.read_csv(credit_path_str)\n",
    "df_credit.shape"
   ]
  },
  {
   "cell_type": "code",
   "execution_count": 5,
   "metadata": {
    "execution": {
     "iopub.execute_input": "2021-02-27T01:50:54.185697Z",
     "iopub.status.busy": "2021-02-27T01:50:54.184989Z",
     "iopub.status.idle": "2021-02-27T01:50:54.465093Z",
     "shell.execute_reply": "2021-02-27T01:50:54.464341Z"
    },
    "papermill": {
     "duration": 0.401331,
     "end_time": "2021-02-27T01:50:54.465247",
     "exception": false,
     "start_time": "2021-02-27T01:50:54.063916",
     "status": "completed"
    },
    "tags": []
   },
   "outputs": [
    {
     "data": {
      "text/plain": [
       "(438557, 18)"
      ]
     },
     "execution_count": 5,
     "metadata": {},
     "output_type": "execute_result"
    }
   ],
   "source": [
    "#  Replace C and X with 0, expanding the 0 group to 0-29 days past due, so that we have all numeric categories for delinquency status.\n",
    "df_credit['STATUS'] = df_credit['STATUS'].replace(['X'],0)\n",
    "df_credit['STATUS'] = df_credit['STATUS'].replace(['C'],0)\n",
    "\n",
    "# check rows,cols\n",
    "df_app.shape"
   ]
  },
  {
   "cell_type": "code",
   "execution_count": 6,
   "metadata": {
    "execution": {
     "iopub.execute_input": "2021-02-27T01:50:54.503590Z",
     "iopub.status.busy": "2021-02-27T01:50:54.502298Z",
     "iopub.status.idle": "2021-02-27T01:51:07.030085Z",
     "shell.execute_reply": "2021-02-27T01:51:07.029379Z"
    },
    "papermill": {
     "duration": 12.549399,
     "end_time": "2021-02-27T01:51:07.030252",
     "exception": false,
     "start_time": "2021-02-27T01:50:54.480853",
     "status": "completed"
    },
    "tags": []
   },
   "outputs": [
    {
     "data": {
      "text/html": [
       "<div>\n",
       "<style scoped>\n",
       "    .dataframe tbody tr th:only-of-type {\n",
       "        vertical-align: middle;\n",
       "    }\n",
       "\n",
       "    .dataframe tbody tr th {\n",
       "        vertical-align: top;\n",
       "    }\n",
       "\n",
       "    .dataframe thead th {\n",
       "        text-align: right;\n",
       "    }\n",
       "</style>\n",
       "<table border=\"1\" class=\"dataframe\">\n",
       "  <thead>\n",
       "    <tr style=\"text-align: right;\">\n",
       "      <th></th>\n",
       "      <th>ID</th>\n",
       "      <th>STATUS</th>\n",
       "    </tr>\n",
       "  </thead>\n",
       "  <tbody>\n",
       "    <tr>\n",
       "      <th>0</th>\n",
       "      <td>5001711</td>\n",
       "      <td>1</td>\n",
       "    </tr>\n",
       "    <tr>\n",
       "      <th>1</th>\n",
       "      <td>5001712</td>\n",
       "      <td>1</td>\n",
       "    </tr>\n",
       "    <tr>\n",
       "      <th>2</th>\n",
       "      <td>5001713</td>\n",
       "      <td>1</td>\n",
       "    </tr>\n",
       "    <tr>\n",
       "      <th>3</th>\n",
       "      <td>5001714</td>\n",
       "      <td>1</td>\n",
       "    </tr>\n",
       "    <tr>\n",
       "      <th>4</th>\n",
       "      <td>5001715</td>\n",
       "      <td>1</td>\n",
       "    </tr>\n",
       "    <tr>\n",
       "      <th>...</th>\n",
       "      <td>...</td>\n",
       "      <td>...</td>\n",
       "    </tr>\n",
       "    <tr>\n",
       "      <th>45980</th>\n",
       "      <td>5150482</td>\n",
       "      <td>1</td>\n",
       "    </tr>\n",
       "    <tr>\n",
       "      <th>45981</th>\n",
       "      <td>5150483</td>\n",
       "      <td>1</td>\n",
       "    </tr>\n",
       "    <tr>\n",
       "      <th>45982</th>\n",
       "      <td>5150484</td>\n",
       "      <td>1</td>\n",
       "    </tr>\n",
       "    <tr>\n",
       "      <th>45983</th>\n",
       "      <td>5150485</td>\n",
       "      <td>1</td>\n",
       "    </tr>\n",
       "    <tr>\n",
       "      <th>45984</th>\n",
       "      <td>5150487</td>\n",
       "      <td>1</td>\n",
       "    </tr>\n",
       "  </tbody>\n",
       "</table>\n",
       "<p>45985 rows × 2 columns</p>\n",
       "</div>"
      ],
      "text/plain": [
       "            ID  STATUS\n",
       "0      5001711       1\n",
       "1      5001712       1\n",
       "2      5001713       1\n",
       "3      5001714       1\n",
       "4      5001715       1\n",
       "...        ...     ...\n",
       "45980  5150482       1\n",
       "45981  5150483       1\n",
       "45982  5150484       1\n",
       "45983  5150485       1\n",
       "45984  5150487       1\n",
       "\n",
       "[45985 rows x 2 columns]"
      ]
     },
     "execution_count": 6,
     "metadata": {},
     "output_type": "execute_result"
    }
   ],
   "source": [
    "# Convert status to numeric and group-max by status for each unique id.  \n",
    "# This will be a proxy for whether an applicant will be approved, since there is no yes/no flag for approved in the data set.\n",
    "df_credit['STATUS'] = df_credit['STATUS'].apply(pd.to_numeric) \n",
    "# Select highest status, i.e. the highest level of delinquency for each customer id\n",
    "df_credit = df_credit.groupby('ID')['STATUS'].max().reset_index()\n",
    "# export data to csv file\n",
    "df_credit.to_csv('df_credit.csv',index=False)\n",
    "\n",
    "df_credit.groupby('ID')['STATUS'].count().reset_index()"
   ]
  },
  {
   "cell_type": "code",
   "execution_count": 7,
   "metadata": {
    "execution": {
     "iopub.execute_input": "2021-02-27T01:51:07.067634Z",
     "iopub.status.busy": "2021-02-27T01:51:07.066492Z",
     "iopub.status.idle": "2021-02-27T01:51:07.216006Z",
     "shell.execute_reply": "2021-02-27T01:51:07.215318Z"
    },
    "papermill": {
     "duration": 0.170784,
     "end_time": "2021-02-27T01:51:07.216154",
     "exception": false,
     "start_time": "2021-02-27T01:51:07.045370",
     "status": "completed"
    },
    "tags": []
   },
   "outputs": [
    {
     "data": {
      "text/plain": [
       "(36457, 19)"
      ]
     },
     "execution_count": 7,
     "metadata": {},
     "output_type": "execute_result"
    }
   ],
   "source": [
    "#  Join grouped status table to df_app by ID \n",
    "df_consol = pd.merge(df_app, df_credit, left_on='ID', right_on='ID')\n",
    "df_consol.shape"
   ]
  },
  {
   "cell_type": "code",
   "execution_count": 8,
   "metadata": {
    "execution": {
     "iopub.execute_input": "2021-02-27T01:51:07.254567Z",
     "iopub.status.busy": "2021-02-27T01:51:07.253712Z",
     "iopub.status.idle": "2021-02-27T01:51:07.305643Z",
     "shell.execute_reply": "2021-02-27T01:51:07.305086Z"
    },
    "papermill": {
     "duration": 0.07413,
     "end_time": "2021-02-27T01:51:07.305794",
     "exception": false,
     "start_time": "2021-02-27T01:51:07.231664",
     "status": "completed"
    },
    "tags": []
   },
   "outputs": [
    {
     "data": {
      "text/html": [
       "<div>\n",
       "<style scoped>\n",
       "    .dataframe tbody tr th:only-of-type {\n",
       "        vertical-align: middle;\n",
       "    }\n",
       "\n",
       "    .dataframe tbody tr th {\n",
       "        vertical-align: top;\n",
       "    }\n",
       "\n",
       "    .dataframe thead th {\n",
       "        text-align: right;\n",
       "    }\n",
       "</style>\n",
       "<table border=\"1\" class=\"dataframe\">\n",
       "  <thead>\n",
       "    <tr style=\"text-align: right;\">\n",
       "      <th></th>\n",
       "      <th>ID</th>\n",
       "      <th>CODE_GENDER</th>\n",
       "      <th>FLAG_OWN_CAR</th>\n",
       "      <th>FLAG_OWN_REALTY</th>\n",
       "      <th>CNT_CHILDREN</th>\n",
       "      <th>AMT_INCOME_TOTAL</th>\n",
       "      <th>NAME_INCOME_TYPE</th>\n",
       "      <th>NAME_EDUCATION_TYPE</th>\n",
       "      <th>NAME_FAMILY_STATUS</th>\n",
       "      <th>NAME_HOUSING_TYPE</th>\n",
       "      <th>...</th>\n",
       "      <th>FLAG_MOBIL</th>\n",
       "      <th>FLAG_WORK_PHONE</th>\n",
       "      <th>FLAG_PHONE</th>\n",
       "      <th>FLAG_EMAIL</th>\n",
       "      <th>OCCUPATION_TYPE</th>\n",
       "      <th>CNT_FAM_MEMBERS</th>\n",
       "      <th>STATUS</th>\n",
       "      <th>high_risk</th>\n",
       "      <th>age_years</th>\n",
       "      <th>years_employed</th>\n",
       "    </tr>\n",
       "  </thead>\n",
       "  <tbody>\n",
       "    <tr>\n",
       "      <th>0</th>\n",
       "      <td>5008804</td>\n",
       "      <td>M</td>\n",
       "      <td>Y</td>\n",
       "      <td>Y</td>\n",
       "      <td>0</td>\n",
       "      <td>427500.0</td>\n",
       "      <td>Working</td>\n",
       "      <td>Higher education</td>\n",
       "      <td>Civil marriage</td>\n",
       "      <td>Rented apartment</td>\n",
       "      <td>...</td>\n",
       "      <td>1</td>\n",
       "      <td>1</td>\n",
       "      <td>0</td>\n",
       "      <td>0</td>\n",
       "      <td>NaN</td>\n",
       "      <td>2.0</td>\n",
       "      <td>1</td>\n",
       "      <td>1</td>\n",
       "      <td>33</td>\n",
       "      <td>12</td>\n",
       "    </tr>\n",
       "    <tr>\n",
       "      <th>1</th>\n",
       "      <td>5008805</td>\n",
       "      <td>M</td>\n",
       "      <td>Y</td>\n",
       "      <td>Y</td>\n",
       "      <td>0</td>\n",
       "      <td>427500.0</td>\n",
       "      <td>Working</td>\n",
       "      <td>Higher education</td>\n",
       "      <td>Civil marriage</td>\n",
       "      <td>Rented apartment</td>\n",
       "      <td>...</td>\n",
       "      <td>1</td>\n",
       "      <td>1</td>\n",
       "      <td>0</td>\n",
       "      <td>0</td>\n",
       "      <td>NaN</td>\n",
       "      <td>2.0</td>\n",
       "      <td>1</td>\n",
       "      <td>1</td>\n",
       "      <td>33</td>\n",
       "      <td>12</td>\n",
       "    </tr>\n",
       "    <tr>\n",
       "      <th>2</th>\n",
       "      <td>5008806</td>\n",
       "      <td>M</td>\n",
       "      <td>Y</td>\n",
       "      <td>Y</td>\n",
       "      <td>0</td>\n",
       "      <td>112500.0</td>\n",
       "      <td>Working</td>\n",
       "      <td>Secondary / secondary special</td>\n",
       "      <td>Married</td>\n",
       "      <td>House / apartment</td>\n",
       "      <td>...</td>\n",
       "      <td>1</td>\n",
       "      <td>0</td>\n",
       "      <td>0</td>\n",
       "      <td>0</td>\n",
       "      <td>Security staff</td>\n",
       "      <td>2.0</td>\n",
       "      <td>0</td>\n",
       "      <td>0</td>\n",
       "      <td>59</td>\n",
       "      <td>3</td>\n",
       "    </tr>\n",
       "    <tr>\n",
       "      <th>3</th>\n",
       "      <td>5008808</td>\n",
       "      <td>F</td>\n",
       "      <td>N</td>\n",
       "      <td>Y</td>\n",
       "      <td>0</td>\n",
       "      <td>270000.0</td>\n",
       "      <td>Commercial associate</td>\n",
       "      <td>Secondary / secondary special</td>\n",
       "      <td>Single / not married</td>\n",
       "      <td>House / apartment</td>\n",
       "      <td>...</td>\n",
       "      <td>1</td>\n",
       "      <td>0</td>\n",
       "      <td>1</td>\n",
       "      <td>1</td>\n",
       "      <td>Sales staff</td>\n",
       "      <td>1.0</td>\n",
       "      <td>0</td>\n",
       "      <td>0</td>\n",
       "      <td>52</td>\n",
       "      <td>8</td>\n",
       "    </tr>\n",
       "    <tr>\n",
       "      <th>4</th>\n",
       "      <td>5008809</td>\n",
       "      <td>F</td>\n",
       "      <td>N</td>\n",
       "      <td>Y</td>\n",
       "      <td>0</td>\n",
       "      <td>270000.0</td>\n",
       "      <td>Commercial associate</td>\n",
       "      <td>Secondary / secondary special</td>\n",
       "      <td>Single / not married</td>\n",
       "      <td>House / apartment</td>\n",
       "      <td>...</td>\n",
       "      <td>1</td>\n",
       "      <td>0</td>\n",
       "      <td>1</td>\n",
       "      <td>1</td>\n",
       "      <td>Sales staff</td>\n",
       "      <td>1.0</td>\n",
       "      <td>0</td>\n",
       "      <td>0</td>\n",
       "      <td>52</td>\n",
       "      <td>8</td>\n",
       "    </tr>\n",
       "  </tbody>\n",
       "</table>\n",
       "<p>5 rows × 22 columns</p>\n",
       "</div>"
      ],
      "text/plain": [
       "        ID CODE_GENDER FLAG_OWN_CAR FLAG_OWN_REALTY  CNT_CHILDREN  \\\n",
       "0  5008804           M            Y               Y             0   \n",
       "1  5008805           M            Y               Y             0   \n",
       "2  5008806           M            Y               Y             0   \n",
       "3  5008808           F            N               Y             0   \n",
       "4  5008809           F            N               Y             0   \n",
       "\n",
       "   AMT_INCOME_TOTAL      NAME_INCOME_TYPE            NAME_EDUCATION_TYPE  \\\n",
       "0          427500.0               Working               Higher education   \n",
       "1          427500.0               Working               Higher education   \n",
       "2          112500.0               Working  Secondary / secondary special   \n",
       "3          270000.0  Commercial associate  Secondary / secondary special   \n",
       "4          270000.0  Commercial associate  Secondary / secondary special   \n",
       "\n",
       "     NAME_FAMILY_STATUS  NAME_HOUSING_TYPE  ...  FLAG_MOBIL  FLAG_WORK_PHONE  \\\n",
       "0        Civil marriage   Rented apartment  ...           1                1   \n",
       "1        Civil marriage   Rented apartment  ...           1                1   \n",
       "2               Married  House / apartment  ...           1                0   \n",
       "3  Single / not married  House / apartment  ...           1                0   \n",
       "4  Single / not married  House / apartment  ...           1                0   \n",
       "\n",
       "   FLAG_PHONE  FLAG_EMAIL  OCCUPATION_TYPE  CNT_FAM_MEMBERS STATUS  high_risk  \\\n",
       "0           0           0              NaN              2.0      1          1   \n",
       "1           0           0              NaN              2.0      1          1   \n",
       "2           0           0   Security staff              2.0      0          0   \n",
       "3           1           1      Sales staff              1.0      0          0   \n",
       "4           1           1      Sales staff              1.0      0          0   \n",
       "\n",
       "   age_years  years_employed  \n",
       "0         33              12  \n",
       "1         33              12  \n",
       "2         59               3  \n",
       "3         52               8  \n",
       "4         52               8  \n",
       "\n",
       "[5 rows x 22 columns]"
      ]
     },
     "execution_count": 8,
     "metadata": {},
     "output_type": "execute_result"
    }
   ],
   "source": [
    "# convert status to binary.  If < 1, then \n",
    "df_consol['high_risk'] = np.where(df_consol['STATUS']<1, 0, 1)\n",
    "# convert days old to years\n",
    "df_consol['age_years'] = round(df_consol['DAYS_BIRTH']/-365,0).astype(int)\n",
    "df_consol['years_employed'] = round(df_consol['DAYS_EMPLOYED']/-365,0).astype(int)\n",
    "\n",
    "\n",
    "df_consol.head()"
   ]
  },
  {
   "cell_type": "code",
   "execution_count": 9,
   "metadata": {
    "execution": {
     "iopub.execute_input": "2021-02-27T01:51:07.344899Z",
     "iopub.status.busy": "2021-02-27T01:51:07.344226Z",
     "iopub.status.idle": "2021-02-27T01:51:07.400416Z",
     "shell.execute_reply": "2021-02-27T01:51:07.400896Z"
    },
    "papermill": {
     "duration": 0.079068,
     "end_time": "2021-02-27T01:51:07.401077",
     "exception": false,
     "start_time": "2021-02-27T01:51:07.322009",
     "status": "completed"
    },
    "tags": []
   },
   "outputs": [
    {
     "data": {
      "text/plain": [
       "(36457, 59)"
      ]
     },
     "execution_count": 9,
     "metadata": {},
     "output_type": "execute_result"
    }
   ],
   "source": [
    "#  Encode categorical columns\n",
    "df_formatted = pd.get_dummies(df_consol, columns=['CODE_GENDER', 'FLAG_OWN_CAR', 'FLAG_OWN_REALTY', 'NAME_INCOME_TYPE', 'NAME_EDUCATION_TYPE', \n",
    "                                   'NAME_FAMILY_STATUS', 'NAME_HOUSING_TYPE', 'OCCUPATION_TYPE'],               \n",
    "               prefix=[\"gender\", \"own_car\", 'own_property', 'income_type', 'education', 'family_status', 'housing_type',\n",
    "                      'occupation_type'])\n",
    "# check length-rows and width-columns of data\n",
    "df_formatted.shape"
   ]
  },
  {
   "cell_type": "code",
   "execution_count": 10,
   "metadata": {
    "execution": {
     "iopub.execute_input": "2021-02-27T01:51:07.444231Z",
     "iopub.status.busy": "2021-02-27T01:51:07.443461Z",
     "iopub.status.idle": "2021-02-27T01:51:07.950912Z",
     "shell.execute_reply": "2021-02-27T01:51:07.950139Z"
    },
    "papermill": {
     "duration": 0.53203,
     "end_time": "2021-02-27T01:51:07.951105",
     "exception": false,
     "start_time": "2021-02-27T01:51:07.419075",
     "status": "completed"
    },
    "tags": []
   },
   "outputs": [],
   "source": [
    "# drop columns not needed\n",
    "df_formatted.drop(['ID'], axis=1, inplace=True)\n",
    "df_formatted.drop(['STATUS'], axis=1, inplace=True)\n",
    "df_formatted.drop(['DAYS_BIRTH'], axis=1, inplace=True)\n",
    "df_formatted.drop(['DAYS_EMPLOYED'], axis=1, inplace=True)\n",
    "df_formatted.drop(['own_car_N'], axis=1, inplace=True)\n",
    "df_formatted.drop(['own_property_N'], axis=1, inplace=True)\n",
    "\n",
    "df_formatted.to_csv('df_formatted.csv',index=False)"
   ]
  },
  {
   "cell_type": "code",
   "execution_count": 11,
   "metadata": {
    "execution": {
     "iopub.execute_input": "2021-02-27T01:51:07.993739Z",
     "iopub.status.busy": "2021-02-27T01:51:07.992954Z",
     "iopub.status.idle": "2021-02-27T01:51:08.005802Z",
     "shell.execute_reply": "2021-02-27T01:51:08.005134Z"
    },
    "papermill": {
     "duration": 0.037752,
     "end_time": "2021-02-27T01:51:08.005985",
     "exception": false,
     "start_time": "2021-02-27T01:51:07.968233",
     "status": "completed"
    },
    "tags": []
   },
   "outputs": [],
   "source": [
    "# Use numpy to convert to arrays.\n",
    "# NumPy is a library for the Python programming language, adding support for large, multi-dimensional arrays and matrices, \n",
    "# along with a large collection of high-level mathematical functions to operate on these arrays.\n",
    "import numpy as np\n",
    "\n",
    "# Assign target variable to separate array\n",
    "target = np.array(df_formatted[target_column_name])\n",
    "\n",
    "# Remove target column from features\n",
    "features = df_formatted.drop(target_column_name, axis = 1)\n",
    "\n",
    "# Saving feature names for later use\n",
    "feature_list = list(features.columns)\n",
    "\n",
    "# convert features dataframe to array\n",
    "features = np.array(features)"
   ]
  },
  {
   "cell_type": "code",
   "execution_count": 12,
   "metadata": {
    "execution": {
     "iopub.execute_input": "2021-02-27T01:51:08.046902Z",
     "iopub.status.busy": "2021-02-27T01:51:08.046155Z",
     "iopub.status.idle": "2021-02-27T01:51:09.096959Z",
     "shell.execute_reply": "2021-02-27T01:51:09.096242Z"
    },
    "papermill": {
     "duration": 1.073862,
     "end_time": "2021-02-27T01:51:09.097108",
     "exception": false,
     "start_time": "2021-02-27T01:51:08.023246",
     "status": "completed"
    },
    "tags": []
   },
   "outputs": [
    {
     "name": "stdout",
     "output_type": "stream",
     "text": [
      "Training Features Shape: (27342, 52)\n",
      "Training target Shape: (27342,)\n",
      "Testing Features Shape: (9115, 52)\n",
      "Testing target Shape: (9115,)\n"
     ]
    }
   ],
   "source": [
    "#  Using Skicit-learn to split data into training and testing sets.\n",
    "#  Scikit-learn (formerly scikits.learn and also known as sklearn) is a free software machine learning library for the Python programming language.\n",
    "#  It features various classification, #  regression and clustering algorithms including support vector machines, random forests, \n",
    "#  gradient boosting, k-means and DBSCAN, and is designed to interoperate with the Python numerical and scientific libraries NumPy and SciPy.\n",
    "from sklearn.model_selection import train_test_split\n",
    "\n",
    "# Split the data into training and testing sets.  test_size is n% of the rows. The other % will train the model.\n",
    "train_features, test_features, train_target, test_target = train_test_split(features, target, test_size = 0.25, random_state = 42)\n",
    "\n",
    "# Check to see that training features and labels have the same rows, and testing features and labels have the same rows\n",
    "print('Training Features Shape:', train_features.shape)\n",
    "print('Training target Shape:', train_target.shape)\n",
    "print('Testing Features Shape:', test_features.shape)\n",
    "print('Testing target Shape:', test_target.shape)"
   ]
  },
  {
   "cell_type": "code",
   "execution_count": 13,
   "metadata": {
    "execution": {
     "iopub.execute_input": "2021-02-27T01:51:09.139657Z",
     "iopub.status.busy": "2021-02-27T01:51:09.138897Z",
     "iopub.status.idle": "2021-02-27T01:51:39.456812Z",
     "shell.execute_reply": "2021-02-27T01:51:39.457336Z"
    },
    "papermill": {
     "duration": 30.342128,
     "end_time": "2021-02-27T01:51:39.457556",
     "exception": false,
     "start_time": "2021-02-27T01:51:09.115428",
     "status": "completed"
    },
    "tags": []
   },
   "outputs": [
    {
     "data": {
      "text/plain": [
       "RandomForestRegressor(n_estimators=200, random_state=42)"
      ]
     },
     "execution_count": 13,
     "metadata": {},
     "output_type": "execute_result"
    }
   ],
   "source": [
    "# Import the model we are using\n",
    "from sklearn.ensemble import RandomForestRegressor\n",
    "\n",
    "# Instantiate model.  n_estimators is the number of decision trees you want to use\n",
    "rf = RandomForestRegressor(n_estimators = number_of_trees, random_state = 42)\n",
    "\n",
    "# Train the model on training data\n",
    "rf.fit(train_features, train_target)"
   ]
  },
  {
   "cell_type": "code",
   "execution_count": 14,
   "metadata": {
    "execution": {
     "iopub.execute_input": "2021-02-27T01:51:39.500098Z",
     "iopub.status.busy": "2021-02-27T01:51:39.499357Z",
     "iopub.status.idle": "2021-02-27T01:51:39.508681Z",
     "shell.execute_reply": "2021-02-27T01:51:39.507831Z"
    },
    "papermill": {
     "duration": 0.033283,
     "end_time": "2021-02-27T01:51:39.508862",
     "exception": false,
     "start_time": "2021-02-27T01:51:39.475579",
     "status": "completed"
    },
    "tags": []
   },
   "outputs": [],
   "source": [
    "# Import tools needed for visualization\n",
    "from sklearn.tree import export_graphviz\n",
    "from IPython.display import Image\n",
    "# pydot may need to be installed. \n",
    "try:\n",
    "    import pydot\n",
    "except ImportError as e:\n",
    "    !pip install pydot\n",
    "    import pydot"
   ]
  },
  {
   "cell_type": "code",
   "execution_count": 15,
   "metadata": {
    "execution": {
     "iopub.execute_input": "2021-02-27T01:51:39.552454Z",
     "iopub.status.busy": "2021-02-27T01:51:39.551742Z",
     "iopub.status.idle": "2021-02-27T01:51:40.743768Z",
     "shell.execute_reply": "2021-02-27T01:51:40.744310Z"
    },
    "papermill": {
     "duration": 1.217309,
     "end_time": "2021-02-27T01:51:40.744529",
     "exception": false,
     "start_time": "2021-02-27T01:51:39.527220",
     "status": "completed"
    },
    "tags": []
   },
   "outputs": [
    {
     "data": {
      "image/png": "[encoded data removed]",
      "text/plain": [
       "<IPython.core.display.Image object>"
      ]
     },
     "execution_count": 15,
     "metadata": {},
     "output_type": "execute_result"
    }
   ],
   "source": [
    "# Limit depth of tree to n levels\n",
    "rf_small = RandomForestRegressor(n_estimators=10, max_depth = tree_depth)\n",
    "rf_small.fit(train_features, train_target)\n",
    "# Extract the small tree\n",
    "tree_small = rf_small.estimators_[5]\n",
    "# Save the tree as a png image\n",
    "export_graphviz(tree_small, out_file = 'small_tree.dot', feature_names = feature_list, rounded = True, precision = 1)\n",
    "(graph, ) = pydot.graph_from_dot_file('small_tree.dot')\n",
    "graph.write_png('small_tree.png')\n",
    "# show png file\n",
    "Image(graph.create_png())"
   ]
  },
  {
   "cell_type": "code",
   "execution_count": 16,
   "metadata": {
    "execution": {
     "iopub.execute_input": "2021-02-27T01:51:40.795404Z",
     "iopub.status.busy": "2021-02-27T01:51:40.794317Z",
     "iopub.status.idle": "2021-02-27T01:51:40.837057Z",
     "shell.execute_reply": "2021-02-27T01:51:40.836327Z"
    },
    "papermill": {
     "duration": 0.071629,
     "end_time": "2021-02-27T01:51:40.837223",
     "exception": false,
     "start_time": "2021-02-27T01:51:40.765594",
     "status": "completed"
    },
    "tags": []
   },
   "outputs": [
    {
     "name": "stdout",
     "output_type": "stream",
     "text": [
      "Variable: AMT_INCOME_TOTAL     Importance: 0.18\n",
      "Variable: age_years            Importance: 0.17\n",
      "Variable: years_employed       Importance: 0.13\n",
      "Variable: CNT_FAM_MEMBERS      Importance: 0.04\n",
      "Variable: CNT_CHILDREN         Importance: 0.03\n",
      "Variable: FLAG_PHONE           Importance: 0.03\n",
      "Variable: FLAG_WORK_PHONE      Importance: 0.02\n",
      "Variable: FLAG_EMAIL           Importance: 0.02\n",
      "Variable: gender_F             Importance: 0.02\n",
      "Variable: gender_M             Importance: 0.02\n",
      "Variable: own_car_Y            Importance: 0.02\n",
      "Variable: own_property_Y       Importance: 0.02\n",
      "Variable: income_type_Commercial associate Importance: 0.02\n",
      "Variable: income_type_Working  Importance: 0.02\n",
      "Variable: education_Higher education Importance: 0.02\n",
      "Variable: education_Secondary / secondary special Importance: 0.02\n",
      "Variable: family_status_Married Importance: 0.02\n",
      "Variable: occupation_type_Core staff Importance: 0.02\n",
      "Variable: occupation_type_Laborers Importance: 0.02\n",
      "Variable: income_type_Pensioner Importance: 0.01\n",
      "Variable: income_type_State servant Importance: 0.01\n",
      "Variable: education_Incomplete higher Importance: 0.01\n",
      "Variable: family_status_Civil marriage Importance: 0.01\n",
      "Variable: family_status_Separated Importance: 0.01\n",
      "Variable: family_status_Single / not married Importance: 0.01\n",
      "Variable: family_status_Widow  Importance: 0.01\n",
      "Variable: housing_type_House / apartment Importance: 0.01\n",
      "Variable: housing_type_Municipal apartment Importance: 0.01\n",
      "Variable: housing_type_With parents Importance: 0.01\n",
      "Variable: occupation_type_Accountants Importance: 0.01\n",
      "Variable: occupation_type_Cooking staff Importance: 0.01\n",
      "Variable: occupation_type_Drivers Importance: 0.01\n",
      "Variable: occupation_type_High skill tech staff Importance: 0.01\n",
      "Variable: occupation_type_Managers Importance: 0.01\n",
      "Variable: occupation_type_Medicine staff Importance: 0.01\n",
      "Variable: occupation_type_Sales staff Importance: 0.01\n",
      "Variable: occupation_type_Security staff Importance: 0.01\n",
      "Variable: FLAG_MOBIL           Importance: 0.0\n",
      "Variable: income_type_Student  Importance: 0.0\n",
      "Variable: education_Academic degree Importance: 0.0\n",
      "Variable: education_Lower secondary Importance: 0.0\n",
      "Variable: housing_type_Co-op apartment Importance: 0.0\n",
      "Variable: housing_type_Office apartment Importance: 0.0\n",
      "Variable: housing_type_Rented apartment Importance: 0.0\n",
      "Variable: occupation_type_Cleaning staff Importance: 0.0\n",
      "Variable: occupation_type_HR staff Importance: 0.0\n",
      "Variable: occupation_type_IT staff Importance: 0.0\n",
      "Variable: occupation_type_Low-skill Laborers Importance: 0.0\n",
      "Variable: occupation_type_Private service staff Importance: 0.0\n",
      "Variable: occupation_type_Realty agents Importance: 0.0\n",
      "Variable: occupation_type_Secretaries Importance: 0.0\n",
      "Variable: occupation_type_Waiters/barmen staff Importance: 0.0\n"
     ]
    },
    {
     "data": {
      "text/plain": [
       "[None,\n",
       " None,\n",
       " None,\n",
       " None,\n",
       " None,\n",
       " None,\n",
       " None,\n",
       " None,\n",
       " None,\n",
       " None,\n",
       " None,\n",
       " None,\n",
       " None,\n",
       " None,\n",
       " None,\n",
       " None,\n",
       " None,\n",
       " None,\n",
       " None,\n",
       " None,\n",
       " None,\n",
       " None,\n",
       " None,\n",
       " None,\n",
       " None,\n",
       " None,\n",
       " None,\n",
       " None,\n",
       " None,\n",
       " None,\n",
       " None,\n",
       " None,\n",
       " None,\n",
       " None,\n",
       " None,\n",
       " None,\n",
       " None,\n",
       " None,\n",
       " None,\n",
       " None,\n",
       " None,\n",
       " None,\n",
       " None,\n",
       " None,\n",
       " None,\n",
       " None,\n",
       " None,\n",
       " None,\n",
       " None,\n",
       " None,\n",
       " None,\n",
       " None]"
      ]
     },
     "execution_count": 16,
     "metadata": {},
     "output_type": "execute_result"
    }
   ],
   "source": [
    "# Get numerical feature importances\n",
    "importances = list(rf.feature_importances_)\n",
    "# List of tuples with variable and importance\n",
    "feature_importances = [(feature, round(importance, 2)) for feature, importance in zip(feature_list, importances)]\n",
    "# Sort the feature importances by most important first\n",
    "feature_importances = sorted(feature_importances, key = lambda x: x[1], reverse = True)\n",
    "# Print out the feature and importances \n",
    "[print('Variable: {:20} Importance: {}'.format(*pair)) for pair in feature_importances]"
   ]
  },
  {
   "cell_type": "code",
   "execution_count": 17,
   "metadata": {
    "execution": {
     "iopub.execute_input": "2021-02-27T01:51:40.891209Z",
     "iopub.status.busy": "2021-02-27T01:51:40.890487Z",
     "iopub.status.idle": "2021-02-27T01:51:40.894026Z",
     "shell.execute_reply": "2021-02-27T01:51:40.893287Z"
    },
    "papermill": {
     "duration": 0.035054,
     "end_time": "2021-02-27T01:51:40.894177",
     "exception": false,
     "start_time": "2021-02-27T01:51:40.859123",
     "status": "completed"
    },
    "tags": []
   },
   "outputs": [],
   "source": [
    "dfcorr = df_formatted[['AMT_INCOME_TOTAL','age_years','years_employed', 'high_risk']]"
   ]
  },
  {
   "cell_type": "code",
   "execution_count": 18,
   "metadata": {
    "execution": {
     "iopub.execute_input": "2021-02-27T01:51:40.941804Z",
     "iopub.status.busy": "2021-02-27T01:51:40.941069Z",
     "iopub.status.idle": "2021-02-27T01:51:41.026194Z",
     "shell.execute_reply": "2021-02-27T01:51:41.025422Z"
    },
    "papermill": {
     "duration": 0.110872,
     "end_time": "2021-02-27T01:51:41.026358",
     "exception": false,
     "start_time": "2021-02-27T01:51:40.915486",
     "status": "completed"
    },
    "tags": []
   },
   "outputs": [],
   "source": [
    "# import packages\n",
    "import seaborn as sn\n",
    "import matplotlib.pyplot as plt"
   ]
  },
  {
   "cell_type": "code",
   "execution_count": 19,
   "metadata": {
    "execution": {
     "iopub.execute_input": "2021-02-27T01:51:41.077179Z",
     "iopub.status.busy": "2021-02-27T01:51:41.076414Z",
     "iopub.status.idle": "2021-02-27T01:51:41.491547Z",
     "shell.execute_reply": "2021-02-27T01:51:41.490396Z"
    },
    "papermill": {
     "duration": 0.443115,
     "end_time": "2021-02-27T01:51:41.491712",
     "exception": false,
     "start_time": "2021-02-27T01:51:41.048597",
     "status": "completed"
    },
    "tags": []
   },
   "outputs": [
    {
     "data": {
      "image/png": "[encoded data removed]",
      "text/plain": [
       "<Figure size 1080x864 with 2 Axes>"
      ]
     },
     "metadata": {
      "needs_background": "light"
     },
     "output_type": "display_data"
    }
   ],
   "source": [
    "# set width and height \n",
    "f = plt.figure() \n",
    "f.set_figwidth(15) \n",
    "f.set_figheight(12) \n",
    "\n",
    "# create matrix\n",
    "sn.heatmap(dfcorr.corr(), annot = True, vmin=-1, vmax=1, center= 0, cmap= 'Blues', linewidths=1, linecolor='black')\n",
    "# Make x and y descriptions larger so they are easier to read\n",
    "plt.xticks(fontsize=14)\n",
    "plt.yticks(fontsize=14)\n",
    "\n",
    "plt.show()"
   ]
  }
 ],
 "metadata": {
  "kernelspec": {
   "display_name": "Python 3",
   "language": "python",
   "name": "python3"
  },
  "language_info": {
   "codemirror_mode": {
    "name": "ipython",
    "version": 3
   },
   "file_extension": ".py",
   "mimetype": "text/x-python",
   "name": "python",
   "nbconvert_exporter": "python",
   "pygments_lexer": "ipython3",
   "version": "3.7.9"
  },
  "papermill": {
   "default_parameters": {},
   "duration": 57.085876,
   "end_time": "2021-02-27T01:51:42.326735",
   "environment_variables": {},
   "exception": null,
   "input_path": "__notebook__.ipynb",
   "output_path": "__notebook__.ipynb",
   "parameters": {},
   "start_time": "2021-02-27T01:50:45.240859",
   "version": "2.2.2"
  }
 },
 "nbformat": 4,
 "nbformat_minor": 4
}
